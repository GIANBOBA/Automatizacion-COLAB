{
  "nbformat": 4,
  "nbformat_minor": 0,
  "metadata": {
    "colab": {
      "provenance": []
    },
    "kernelspec": {
      "name": "python3",
      "display_name": "Python 3"
    },
    "language_info": {
      "name": "python"
    }
  },
  "cells": [
    {
      "cell_type": "code",
      "execution_count": 54,
      "metadata": {
        "colab": {
          "base_uri": "https://localhost:8080/"
        },
        "id": "sup31Vz3lGe6",
        "outputId": "c8e00756-1aa2-4f0c-ef90-1ba77ca02e08"
      },
      "outputs": [
        {
          "output_type": "stream",
          "name": "stdout",
          "text": [
            "Requirement already satisfied: psycopg2-binary in /usr/local/lib/python3.12/dist-packages (2.9.10)\n",
            "Requirement already satisfied: gspread in /usr/local/lib/python3.12/dist-packages (6.2.1)\n",
            "Requirement already satisfied: gspread-dataframe in /usr/local/lib/python3.12/dist-packages (4.0.0)\n",
            "Requirement already satisfied: pandas in /usr/local/lib/python3.12/dist-packages (2.2.2)\n",
            "Requirement already satisfied: oauth2client in /usr/local/lib/python3.12/dist-packages (4.1.3)\n",
            "Requirement already satisfied: ipykernel in /usr/local/lib/python3.12/dist-packages (6.17.1)\n",
            "Requirement already satisfied: google-auth>=1.12.0 in /usr/local/lib/python3.12/dist-packages (from gspread) (2.38.0)\n",
            "Requirement already satisfied: google-auth-oauthlib>=0.4.1 in /usr/local/lib/python3.12/dist-packages (from gspread) (1.2.2)\n",
            "Requirement already satisfied: six>=1.12.0 in /usr/local/lib/python3.12/dist-packages (from gspread-dataframe) (1.17.0)\n",
            "Requirement already satisfied: numpy>=1.26.0 in /usr/local/lib/python3.12/dist-packages (from pandas) (2.0.2)\n",
            "Requirement already satisfied: python-dateutil>=2.8.2 in /usr/local/lib/python3.12/dist-packages (from pandas) (2.9.0.post0)\n",
            "Requirement already satisfied: pytz>=2020.1 in /usr/local/lib/python3.12/dist-packages (from pandas) (2025.2)\n",
            "Requirement already satisfied: tzdata>=2022.7 in /usr/local/lib/python3.12/dist-packages (from pandas) (2025.2)\n",
            "Requirement already satisfied: httplib2>=0.9.1 in /usr/local/lib/python3.12/dist-packages (from oauth2client) (0.30.0)\n",
            "Requirement already satisfied: pyasn1>=0.1.7 in /usr/local/lib/python3.12/dist-packages (from oauth2client) (0.6.1)\n",
            "Requirement already satisfied: pyasn1-modules>=0.0.5 in /usr/local/lib/python3.12/dist-packages (from oauth2client) (0.4.2)\n",
            "Requirement already satisfied: rsa>=3.1.4 in /usr/local/lib/python3.12/dist-packages (from oauth2client) (4.9.1)\n",
            "Requirement already satisfied: debugpy>=1.0 in /usr/local/lib/python3.12/dist-packages (from ipykernel) (1.8.15)\n",
            "Requirement already satisfied: ipython>=7.23.1 in /usr/local/lib/python3.12/dist-packages (from ipykernel) (7.34.0)\n",
            "Requirement already satisfied: jupyter-client>=6.1.12 in /usr/local/lib/python3.12/dist-packages (from ipykernel) (7.4.9)\n",
            "Requirement already satisfied: matplotlib-inline>=0.1 in /usr/local/lib/python3.12/dist-packages (from ipykernel) (0.1.7)\n",
            "Requirement already satisfied: nest-asyncio in /usr/local/lib/python3.12/dist-packages (from ipykernel) (1.6.0)\n",
            "Requirement already satisfied: packaging in /usr/local/lib/python3.12/dist-packages (from ipykernel) (25.0)\n",
            "Requirement already satisfied: psutil in /usr/local/lib/python3.12/dist-packages (from ipykernel) (5.9.5)\n",
            "Requirement already satisfied: pyzmq>=17 in /usr/local/lib/python3.12/dist-packages (from ipykernel) (26.2.1)\n",
            "Requirement already satisfied: tornado>=6.1 in /usr/local/lib/python3.12/dist-packages (from ipykernel) (6.4.2)\n",
            "Requirement already satisfied: traitlets>=5.1.0 in /usr/local/lib/python3.12/dist-packages (from ipykernel) (5.7.1)\n",
            "Requirement already satisfied: cachetools<6.0,>=2.0.0 in /usr/local/lib/python3.12/dist-packages (from google-auth>=1.12.0->gspread) (5.5.2)\n",
            "Requirement already satisfied: requests-oauthlib>=0.7.0 in /usr/local/lib/python3.12/dist-packages (from google-auth-oauthlib>=0.4.1->gspread) (2.0.0)\n",
            "Requirement already satisfied: pyparsing<4,>=3.0.4 in /usr/local/lib/python3.12/dist-packages (from httplib2>=0.9.1->oauth2client) (3.2.3)\n",
            "Requirement already satisfied: setuptools>=18.5 in /usr/local/lib/python3.12/dist-packages (from ipython>=7.23.1->ipykernel) (75.2.0)\n",
            "Collecting jedi>=0.16 (from ipython>=7.23.1->ipykernel)\n",
            "  Downloading jedi-0.19.2-py2.py3-none-any.whl.metadata (22 kB)\n",
            "Requirement already satisfied: decorator in /usr/local/lib/python3.12/dist-packages (from ipython>=7.23.1->ipykernel) (4.4.2)\n",
            "Requirement already satisfied: pickleshare in /usr/local/lib/python3.12/dist-packages (from ipython>=7.23.1->ipykernel) (0.7.5)\n",
            "Requirement already satisfied: prompt-toolkit!=3.0.0,!=3.0.1,<3.1.0,>=2.0.0 in /usr/local/lib/python3.12/dist-packages (from ipython>=7.23.1->ipykernel) (3.0.52)\n",
            "Requirement already satisfied: pygments in /usr/local/lib/python3.12/dist-packages (from ipython>=7.23.1->ipykernel) (2.19.2)\n",
            "Requirement already satisfied: backcall in /usr/local/lib/python3.12/dist-packages (from ipython>=7.23.1->ipykernel) (0.2.0)\n",
            "Requirement already satisfied: pexpect>4.3 in /usr/local/lib/python3.12/dist-packages (from ipython>=7.23.1->ipykernel) (4.9.0)\n",
            "Requirement already satisfied: entrypoints in /usr/local/lib/python3.12/dist-packages (from jupyter-client>=6.1.12->ipykernel) (0.4)\n",
            "Requirement already satisfied: jupyter-core>=4.9.2 in /usr/local/lib/python3.12/dist-packages (from jupyter-client>=6.1.12->ipykernel) (5.8.1)\n",
            "Requirement already satisfied: parso<0.9.0,>=0.8.4 in /usr/local/lib/python3.12/dist-packages (from jedi>=0.16->ipython>=7.23.1->ipykernel) (0.8.5)\n",
            "Requirement already satisfied: platformdirs>=2.5 in /usr/local/lib/python3.12/dist-packages (from jupyter-core>=4.9.2->jupyter-client>=6.1.12->ipykernel) (4.4.0)\n",
            "Requirement already satisfied: ptyprocess>=0.5 in /usr/local/lib/python3.12/dist-packages (from pexpect>4.3->ipython>=7.23.1->ipykernel) (0.7.0)\n",
            "Requirement already satisfied: wcwidth in /usr/local/lib/python3.12/dist-packages (from prompt-toolkit!=3.0.0,!=3.0.1,<3.1.0,>=2.0.0->ipython>=7.23.1->ipykernel) (0.2.13)\n",
            "Requirement already satisfied: oauthlib>=3.0.0 in /usr/local/lib/python3.12/dist-packages (from requests-oauthlib>=0.7.0->google-auth-oauthlib>=0.4.1->gspread) (3.3.1)\n",
            "Requirement already satisfied: requests>=2.0.0 in /usr/local/lib/python3.12/dist-packages (from requests-oauthlib>=0.7.0->google-auth-oauthlib>=0.4.1->gspread) (2.32.4)\n",
            "Requirement already satisfied: charset_normalizer<4,>=2 in /usr/local/lib/python3.12/dist-packages (from requests>=2.0.0->requests-oauthlib>=0.7.0->google-auth-oauthlib>=0.4.1->gspread) (3.4.3)\n",
            "Requirement already satisfied: idna<4,>=2.5 in /usr/local/lib/python3.12/dist-packages (from requests>=2.0.0->requests-oauthlib>=0.7.0->google-auth-oauthlib>=0.4.1->gspread) (3.10)\n",
            "Requirement already satisfied: urllib3<3,>=1.21.1 in /usr/local/lib/python3.12/dist-packages (from requests>=2.0.0->requests-oauthlib>=0.7.0->google-auth-oauthlib>=0.4.1->gspread) (2.5.0)\n",
            "Requirement already satisfied: certifi>=2017.4.17 in /usr/local/lib/python3.12/dist-packages (from requests>=2.0.0->requests-oauthlib>=0.7.0->google-auth-oauthlib>=0.4.1->gspread) (2025.8.3)\n",
            "Downloading jedi-0.19.2-py2.py3-none-any.whl (1.6 MB)\n",
            "\u001b[2K   \u001b[90m━━━━━━━━━━━━━━━━━━━━━━━━━━━━━━━━━━━━━━━━\u001b[0m \u001b[32m1.6/1.6 MB\u001b[0m \u001b[31m19.7 MB/s\u001b[0m eta \u001b[36m0:00:00\u001b[0m\n",
            "\u001b[?25hInstalling collected packages: jedi\n",
            "Successfully installed jedi-0.19.2\n"
          ]
        }
      ],
      "source": [
        "!pip install psycopg2-binary gspread gspread-dataframe pandas oauth2client ipykernel"
      ]
    },
    {
      "cell_type": "code",
      "source": [
        "import psycopg2\n",
        "import pandas as pd\n",
        "import gspread\n",
        "from gspread_dataframe import set_with_dataframe\n",
        "import json\n",
        "import os"
      ],
      "metadata": {
        "id": "CrTHbGHNUEvC"
      },
      "execution_count": 55,
      "outputs": []
    },
    {
      "cell_type": "code",
      "source": [
        "# --- Celda de Autenticación y Secretos ---\n",
        "\n",
        "# 1. Autenticación con Google\n",
        "if 'GCP_SA_KEY' in os.environ:\n",
        "    print(\"Autenticando con Cuenta de Servicio desde GitHub Secrets...\")\n",
        "    keyfile_dict = json.loads(os.environ['GCP_SA_KEY'])\n",
        "    gc = gspread.service_account_from_dict(keyfile_dict)\n",
        "else:\n",
        "    print(\"Autenticando con usuario de Colab...\")\n",
        "    from google.colab import auth\n",
        "    from google.auth import default\n",
        "    auth.authenticate_user()\n",
        "    creds, _ = default()\n",
        "    gc = gspread.authorize(creds)\n",
        "\n",
        "# 2. Obtención de la Contraseña de la Base de Datos\n",
        "if 'DB_PASSWORD' in os.environ:\n",
        "    db_password = os.environ['DB_PASSWORD']\n",
        "    print(\"Contraseña de BBDD leída desde GitHub Secrets.\")\n",
        "else:\n",
        "    try:\n",
        "        from google.colab import userdata\n",
        "        db_password = userdata.get('DB_PASSWORD')\n",
        "        print(\"Contraseña de BBDD leída desde Colab Secrets.\")\n",
        "    except ImportError:\n",
        "        db_password = \"TU_CONTRASEÑA_AQUÍ\" # <-- Solo para pruebas locales si Colab Secrets falla\n",
        "        print(\"ADVERTENCIA: Usando contraseña local del código.\")"
      ],
      "metadata": {
        "id": "KLkb7jEPl36Q",
        "colab": {
          "base_uri": "https://localhost:8080/"
        },
        "outputId": "609d8d62-42a9-4363-e48b-abdc33a0921f"
      },
      "execution_count": 56,
      "outputs": [
        {
          "output_type": "stream",
          "name": "stdout",
          "text": [
            "Autenticando con usuario de Colab...\n",
            "Contraseña de BBDD leída desde Colab Secrets.\n"
          ]
        }
      ]
    },
    {
      "cell_type": "code",
      "source": [
        "# --------------- CONFIGURACIÓN (Usa la query simple para la prueba) ---------------\n",
        "db_host = 'ec2-52-206-224-222.compute-1.amazonaws.com'\n",
        "db_name = 'd77mgnf951v3g0'\n",
        "db_user = 'reports'\n",
        "sheet_name = 'Prueba automatización COLAB' # <-- Revisa una última vez que el nombre sea exacto\n",
        "sql_query = \"\"\"\n",
        "    SELECT id, name, origin, phone\n",
        "    FROM stores\n",
        "    LIMIT 10\n",
        "\"\"\"\n",
        "# ----------------------------------------------------------------------------------\n",
        "\n",
        "print(\"--- INICIANDO PROCESO DE DIAGNÓSTICO FINAL ---\")\n",
        "conn = None\n",
        "\n",
        "try:\n",
        "    # 1. Conexión a la Base de Datos\n",
        "    print(\"Checkpoint 1: Conectando a PostgreSQL...\")\n",
        "    conn = psycopg2.connect(\n",
        "        host=db_host,\n",
        "        dbname=db_name,\n",
        "        user=db_user,\n",
        "        password=db_password,\n",
        "        port=5432\n",
        "    )\n",
        "    print(\"Checkpoint 2: Conexión a BBDD exitosa.\")\n",
        "\n",
        "    # 2. Ejecución de la Query\n",
        "    print(\"Checkpoint 3: Ejecutando query...\")\n",
        "    df = pd.read_sql_query(sql_query, conn)\n",
        "    print(f\"Checkpoint 4: Query ejecutada. Se encontraron {len(df)} filas.\")\n",
        "\n",
        "    if len(df) == 0:\n",
        "        raise Exception(\"La consulta a la base de datos no devolvió resultados.\")\n",
        "\n",
        "    # 3. Conexión con Google Sheets\n",
        "    print(f\"Checkpoint 5: Abriendo Google Sheet: '{sheet_name}'...\")\n",
        "    spreadsheet = gc.open(sheet_name)\n",
        "    print(\"Checkpoint 6: Hoja de cálculo abierta.\")\n",
        "\n",
        "    worksheet = spreadsheet.get_worksheet(0)\n",
        "    print(f\"Checkpoint 7: Pestaña '{worksheet.title}' seleccionada.\")\n",
        "\n",
        "    print(\"Checkpoint 8: Limpiando la hoja y escribiendo datos...\")\n",
        "    worksheet.clear()\n",
        "    set_with_dataframe(worksheet, df)\n",
        "    print(\"Checkpoint 9: Escritura de datos finalizada.\")\n",
        "\n",
        "    # 4. IMPRIMIR LA URL EXACTA DEL ARCHIVO MODIFICADO\n",
        "    spreadsheet_url = f\"https://docs.google.com/spreadsheets/d/{spreadsheet.id}\"\n",
        "    print(\"\\n--- PRUEBA FINAL ---\")\n",
        "    print(f\"URL DE LA HOJA MODIFICADA: {spreadsheet_url}\")\n",
        "    print(\"--------------------\")\n",
        "\n",
        "    print(\"\\n¡Proceso completado con éxito!\")\n",
        "\n",
        "except Exception as e:\n",
        "    print(f\"\\n--- ERROR CRÍTICO DETECTADO ---\")\n",
        "    print(f\"Detalle del error: {e}\")\n",
        "    raise e\n",
        "\n",
        "finally:\n",
        "    if conn is not None:\n",
        "        conn.close()\n",
        "        print(\"Conexión a la base de datos cerrada.\")"
      ],
      "metadata": {
        "colab": {
          "base_uri": "https://localhost:8080/"
        },
        "id": "8UP3w1Qgmfmn",
        "outputId": "7ffd3a5b-e1e3-4082-f5c1-63617a7de3de"
      },
      "execution_count": 57,
      "outputs": [
        {
          "output_type": "stream",
          "name": "stdout",
          "text": [
            "--- INICIANDO PROCESO DE DIAGNÓSTICO FINAL ---\n",
            "Checkpoint 1: Conectando a PostgreSQL...\n",
            "Checkpoint 2: Conexión a BBDD exitosa.\n",
            "Checkpoint 3: Ejecutando query...\n",
            "Checkpoint 4: Query ejecutada. Se encontraron 10 filas.\n",
            "Checkpoint 5: Abriendo Google Sheet: 'Prueba automatización COLAB'...\n"
          ]
        },
        {
          "output_type": "stream",
          "name": "stderr",
          "text": [
            "/tmp/ipython-input-3536112998.py:30: UserWarning: pandas only supports SQLAlchemy connectable (engine/connection) or database string URI or sqlite3 DBAPI2 connection. Other DBAPI2 objects are not tested. Please consider using SQLAlchemy.\n",
            "  df = pd.read_sql_query(sql_query, conn)\n"
          ]
        },
        {
          "output_type": "stream",
          "name": "stdout",
          "text": [
            "Checkpoint 6: Hoja de cálculo abierta.\n",
            "Checkpoint 7: Pestaña 'Hoja 1' seleccionada.\n",
            "Checkpoint 8: Limpiando la hoja y escribiendo datos...\n",
            "Checkpoint 9: Escritura de datos finalizada.\n",
            "\n",
            "--- PRUEBA FINAL ---\n",
            "URL DE LA HOJA MODIFICADA: https://docs.google.com/spreadsheets/d/1L99-l9ERrUVGV-gtikYWQvfBwMJp5EZ7tiDUPr89k-8\n",
            "--------------------\n",
            "\n",
            "¡Proceso completado con éxito!\n",
            "Conexión a la base de datos cerrada.\n"
          ]
        }
      ]
    }
  ]
}