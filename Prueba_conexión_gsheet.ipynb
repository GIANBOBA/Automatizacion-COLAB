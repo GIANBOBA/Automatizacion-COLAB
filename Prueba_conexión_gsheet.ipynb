{
  "nbformat": 4,
  "nbformat_minor": 0,
  "metadata": {
    "colab": {
      "provenance": []
    },
    "kernelspec": {
      "name": "python3",
      "display_name": "Python 3"
    },
    "language_info": {
      "name": "python"
    }
  },
  "cells": [
    {
      "cell_type": "code",
      "execution_count": 1,
      "metadata": {
        "colab": {
          "base_uri": "https://localhost:8080/"
        },
        "id": "sup31Vz3lGe6",
        "outputId": "1c5e2aaf-bce7-47b5-f2e8-949ff5fa2ee3"
      },
      "outputs": [
        {
          "output_type": "stream",
          "name": "stdout",
          "text": [
            "Collecting psycopg2-binary\n",
            "  Downloading psycopg2_binary-2.9.10-cp312-cp312-manylinux_2_17_x86_64.manylinux2014_x86_64.whl.metadata (4.9 kB)\n",
            "Requirement already satisfied: gspread in /usr/local/lib/python3.12/dist-packages (6.2.1)\n",
            "Requirement already satisfied: gspread-dataframe in /usr/local/lib/python3.12/dist-packages (4.0.0)\n",
            "Requirement already satisfied: pandas in /usr/local/lib/python3.12/dist-packages (2.2.2)\n",
            "Requirement already satisfied: oauth2client in /usr/local/lib/python3.12/dist-packages (4.1.3)\n",
            "Requirement already satisfied: google-auth>=1.12.0 in /usr/local/lib/python3.12/dist-packages (from gspread) (2.38.0)\n",
            "Requirement already satisfied: google-auth-oauthlib>=0.4.1 in /usr/local/lib/python3.12/dist-packages (from gspread) (1.2.2)\n",
            "Requirement already satisfied: six>=1.12.0 in /usr/local/lib/python3.12/dist-packages (from gspread-dataframe) (1.17.0)\n",
            "Requirement already satisfied: numpy>=1.26.0 in /usr/local/lib/python3.12/dist-packages (from pandas) (2.0.2)\n",
            "Requirement already satisfied: python-dateutil>=2.8.2 in /usr/local/lib/python3.12/dist-packages (from pandas) (2.9.0.post0)\n",
            "Requirement already satisfied: pytz>=2020.1 in /usr/local/lib/python3.12/dist-packages (from pandas) (2025.2)\n",
            "Requirement already satisfied: tzdata>=2022.7 in /usr/local/lib/python3.12/dist-packages (from pandas) (2025.2)\n",
            "Requirement already satisfied: httplib2>=0.9.1 in /usr/local/lib/python3.12/dist-packages (from oauth2client) (0.30.0)\n",
            "Requirement already satisfied: pyasn1>=0.1.7 in /usr/local/lib/python3.12/dist-packages (from oauth2client) (0.6.1)\n",
            "Requirement already satisfied: pyasn1-modules>=0.0.5 in /usr/local/lib/python3.12/dist-packages (from oauth2client) (0.4.2)\n",
            "Requirement already satisfied: rsa>=3.1.4 in /usr/local/lib/python3.12/dist-packages (from oauth2client) (4.9.1)\n",
            "Requirement already satisfied: cachetools<6.0,>=2.0.0 in /usr/local/lib/python3.12/dist-packages (from google-auth>=1.12.0->gspread) (5.5.2)\n",
            "Requirement already satisfied: requests-oauthlib>=0.7.0 in /usr/local/lib/python3.12/dist-packages (from google-auth-oauthlib>=0.4.1->gspread) (2.0.0)\n",
            "Requirement already satisfied: pyparsing<4,>=3.0.4 in /usr/local/lib/python3.12/dist-packages (from httplib2>=0.9.1->oauth2client) (3.2.3)\n",
            "Requirement already satisfied: oauthlib>=3.0.0 in /usr/local/lib/python3.12/dist-packages (from requests-oauthlib>=0.7.0->google-auth-oauthlib>=0.4.1->gspread) (3.3.1)\n",
            "Requirement already satisfied: requests>=2.0.0 in /usr/local/lib/python3.12/dist-packages (from requests-oauthlib>=0.7.0->google-auth-oauthlib>=0.4.1->gspread) (2.32.4)\n",
            "Requirement already satisfied: charset_normalizer<4,>=2 in /usr/local/lib/python3.12/dist-packages (from requests>=2.0.0->requests-oauthlib>=0.7.0->google-auth-oauthlib>=0.4.1->gspread) (3.4.3)\n",
            "Requirement already satisfied: idna<4,>=2.5 in /usr/local/lib/python3.12/dist-packages (from requests>=2.0.0->requests-oauthlib>=0.7.0->google-auth-oauthlib>=0.4.1->gspread) (3.10)\n",
            "Requirement already satisfied: urllib3<3,>=1.21.1 in /usr/local/lib/python3.12/dist-packages (from requests>=2.0.0->requests-oauthlib>=0.7.0->google-auth-oauthlib>=0.4.1->gspread) (2.5.0)\n",
            "Requirement already satisfied: certifi>=2017.4.17 in /usr/local/lib/python3.12/dist-packages (from requests>=2.0.0->requests-oauthlib>=0.7.0->google-auth-oauthlib>=0.4.1->gspread) (2025.8.3)\n",
            "Downloading psycopg2_binary-2.9.10-cp312-cp312-manylinux_2_17_x86_64.manylinux2014_x86_64.whl (3.0 MB)\n",
            "\u001b[2K   \u001b[90m━━━━━━━━━━━━━━━━━━━━━━━━━━━━━━━━━━━━━━━━\u001b[0m \u001b[32m3.0/3.0 MB\u001b[0m \u001b[31m25.1 MB/s\u001b[0m eta \u001b[36m0:00:00\u001b[0m\n",
            "\u001b[?25hInstalling collected packages: psycopg2-binary\n",
            "Successfully installed psycopg2-binary-2.9.10\n"
          ]
        }
      ],
      "source": [
        "!pip install psycopg2-binary gspread gspread-dataframe pandas oauth2client"
      ]
    },
    {
      "cell_type": "code",
      "source": [
        "import psycopg2\n",
        "import pandas as pd\n",
        "import gspread\n",
        "from gspread_dataframe import set_with_dataframe\n",
        "from google.colab import auth\n",
        "from google.auth import default\n",
        "\n",
        "# Autenticación con tu cuenta de Google\n",
        "auth.authenticate_user()\n",
        "creds, _ = default()\n",
        "gc = gspread.authorize(creds)"
      ],
      "metadata": {
        "id": "KLkb7jEPl36Q"
      },
      "execution_count": 2,
      "outputs": []
    },
    {
      "cell_type": "code",
      "source": [
        "from google.colab import userdata\n",
        "\n",
        "# Recuperamos la contraseña guardada de forma segura\n",
        "db_password = userdata.get('DB_PASSWORD')"
      ],
      "metadata": {
        "id": "F56uRC0YmXq4"
      },
      "execution_count": 3,
      "outputs": []
    },
    {
      "cell_type": "code",
      "source": [
        "# --------------- CONFIGURACIÓN (ajusta estas 4 líneas) ---------------\n",
        "db_host = 'ec2-52-206-224-222.compute-1.amazonaws.com'\n",
        "db_name = 'd77mgnf951v3g0'\n",
        "db_user = 'reports'\n",
        "sheet_name = 'Prueba automatización COLAB' # <-- El nombre exacto de tu Google Sheet\n",
        "sql_query = \"\"\"\n",
        "    SELECT\n",
        "      s.terms_accepted_at::date AS fecha_firma,\n",
        "      COUNT(DISTINCT s.id) AS cantidad_de_firmas\n",
        "    FROM\n",
        "      stores s\n",
        "    WHERE\n",
        "      s.terms_accepted_at >= CURRENT_DATE - INTERVAL '61 days'\n",
        "    GROUP BY\n",
        "      fecha_firma\n",
        "    ORDER BY\n",
        "      fecha_firma DESC\n",
        "\"\"\"\n",
        "# ---------------------------------------------------------------------\n",
        "\n",
        "print(\"Iniciando proceso...\")\n",
        "\n",
        "try:\n",
        "    # 1. Conectar a PostgreSQL\n",
        "    print(\"Conectando a la base de datos...\")\n",
        "    conn = psycopg2.connect(\n",
        "        host=db_host,\n",
        "        dbname=db_name,\n",
        "        user=db_user,\n",
        "        password=db_password,\n",
        "        port=5432\n",
        "    )\n",
        "\n",
        "    # 2. Ejecutar la query y cargarla en un DataFrame de Pandas\n",
        "    print(\"Ejecutando consulta...\")\n",
        "    df = pd.read_sql_query(sql_query, conn)\n",
        "    print(f\"Se encontraron {len(df)} filas.\")\n",
        "\n",
        "    # 3. Conectar a Google Sheets y escribir los datos\n",
        "    print(f\"Abriendo Google Sheet: '{sheet_name}'...\")\n",
        "    spreadsheet = gc.open(sheet_name)\n",
        "    worksheet = spreadsheet.get_worksheet(0) # Obtiene la primera hoja (pestaña)\n",
        "\n",
        "    print(\"Limpiando la hoja y escribiendo los nuevos datos...\")\n",
        "    worksheet.clear()\n",
        "    set_with_dataframe(worksheet, df)\n",
        "\n",
        "    print(\"\\n¡Proceso completado con éxito! Tu Google Sheet ha sido actualizado.\")\n",
        "\n",
        "except Exception as e:\n",
        "    print(f\"\\nERROR: Ha ocurrido un problema.\")\n",
        "    print(e)\n",
        "\n",
        "finally:\n",
        "    # 4. Asegurarse de que la conexión siempre se cierre\n",
        "    if 'conn' in locals() and conn is not None:\n",
        "        conn.close()\n",
        "        print(\"Conexión a la base de datos cerrada.\")"
      ],
      "metadata": {
        "colab": {
          "base_uri": "https://localhost:8080/"
        },
        "id": "8UP3w1Qgmfmn",
        "outputId": "50f6de49-bbe0-4063-bb99-670f6240b6a3"
      },
      "execution_count": 4,
      "outputs": [
        {
          "output_type": "stream",
          "name": "stdout",
          "text": [
            "Iniciando proceso...\n",
            "Conectando a la base de datos...\n",
            "Ejecutando consulta...\n"
          ]
        },
        {
          "output_type": "stream",
          "name": "stderr",
          "text": [
            "/tmp/ipython-input-2894496267.py:36: UserWarning: pandas only supports SQLAlchemy connectable (engine/connection) or database string URI or sqlite3 DBAPI2 connection. Other DBAPI2 objects are not tested. Please consider using SQLAlchemy.\n",
            "  df = pd.read_sql_query(sql_query, conn)\n"
          ]
        },
        {
          "output_type": "stream",
          "name": "stdout",
          "text": [
            "Se encontraron 60 filas.\n",
            "Abriendo Google Sheet: 'Prueba automatización COLAB'...\n",
            "Limpiando la hoja y escribiendo los nuevos datos...\n",
            "\n",
            "¡Proceso completado con éxito! Tu Google Sheet ha sido actualizado.\n",
            "Conexión a la base de datos cerrada.\n"
          ]
        }
      ]
    }
  ]
}