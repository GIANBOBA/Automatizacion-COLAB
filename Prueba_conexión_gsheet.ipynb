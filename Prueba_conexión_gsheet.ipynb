{
  "nbformat": 4,
  "nbformat_minor": 0,
  "metadata": {
    "colab": {
      "provenance": []
    },
    "kernelspec": {
      "name": "python3",
      "display_name": "Python 3"
    },
    "language_info": {
      "name": "python"
    }
  },
  "cells": [
    {
      "cell_type": "code",
      "execution_count": 14,
      "metadata": {
        "colab": {
          "base_uri": "https://localhost:8080/"
        },
        "id": "sup31Vz3lGe6",
        "outputId": "11a474e8-1abb-4c5b-859f-4764294c0dec"
      },
      "outputs": [
        {
          "output_type": "stream",
          "name": "stdout",
          "text": [
            "Requirement already satisfied: psycopg2-binary in /usr/local/lib/python3.12/dist-packages (2.9.10)\n",
            "Requirement already satisfied: gspread in /usr/local/lib/python3.12/dist-packages (6.2.1)\n",
            "Requirement already satisfied: gspread-dataframe in /usr/local/lib/python3.12/dist-packages (4.0.0)\n",
            "Requirement already satisfied: pandas in /usr/local/lib/python3.12/dist-packages (2.2.2)\n",
            "Requirement already satisfied: oauth2client in /usr/local/lib/python3.12/dist-packages (4.1.3)\n",
            "Requirement already satisfied: google-auth>=1.12.0 in /usr/local/lib/python3.12/dist-packages (from gspread) (2.38.0)\n",
            "Requirement already satisfied: google-auth-oauthlib>=0.4.1 in /usr/local/lib/python3.12/dist-packages (from gspread) (1.2.2)\n",
            "Requirement already satisfied: six>=1.12.0 in /usr/local/lib/python3.12/dist-packages (from gspread-dataframe) (1.17.0)\n",
            "Requirement already satisfied: numpy>=1.26.0 in /usr/local/lib/python3.12/dist-packages (from pandas) (2.0.2)\n",
            "Requirement already satisfied: python-dateutil>=2.8.2 in /usr/local/lib/python3.12/dist-packages (from pandas) (2.9.0.post0)\n",
            "Requirement already satisfied: pytz>=2020.1 in /usr/local/lib/python3.12/dist-packages (from pandas) (2025.2)\n",
            "Requirement already satisfied: tzdata>=2022.7 in /usr/local/lib/python3.12/dist-packages (from pandas) (2025.2)\n",
            "Requirement already satisfied: httplib2>=0.9.1 in /usr/local/lib/python3.12/dist-packages (from oauth2client) (0.30.0)\n",
            "Requirement already satisfied: pyasn1>=0.1.7 in /usr/local/lib/python3.12/dist-packages (from oauth2client) (0.6.1)\n",
            "Requirement already satisfied: pyasn1-modules>=0.0.5 in /usr/local/lib/python3.12/dist-packages (from oauth2client) (0.4.2)\n",
            "Requirement already satisfied: rsa>=3.1.4 in /usr/local/lib/python3.12/dist-packages (from oauth2client) (4.9.1)\n",
            "Requirement already satisfied: cachetools<6.0,>=2.0.0 in /usr/local/lib/python3.12/dist-packages (from google-auth>=1.12.0->gspread) (5.5.2)\n",
            "Requirement already satisfied: requests-oauthlib>=0.7.0 in /usr/local/lib/python3.12/dist-packages (from google-auth-oauthlib>=0.4.1->gspread) (2.0.0)\n",
            "Requirement already satisfied: pyparsing<4,>=3.0.4 in /usr/local/lib/python3.12/dist-packages (from httplib2>=0.9.1->oauth2client) (3.2.3)\n",
            "Requirement already satisfied: oauthlib>=3.0.0 in /usr/local/lib/python3.12/dist-packages (from requests-oauthlib>=0.7.0->google-auth-oauthlib>=0.4.1->gspread) (3.3.1)\n",
            "Requirement already satisfied: requests>=2.0.0 in /usr/local/lib/python3.12/dist-packages (from requests-oauthlib>=0.7.0->google-auth-oauthlib>=0.4.1->gspread) (2.32.4)\n",
            "Requirement already satisfied: charset_normalizer<4,>=2 in /usr/local/lib/python3.12/dist-packages (from requests>=2.0.0->requests-oauthlib>=0.7.0->google-auth-oauthlib>=0.4.1->gspread) (3.4.3)\n",
            "Requirement already satisfied: idna<4,>=2.5 in /usr/local/lib/python3.12/dist-packages (from requests>=2.0.0->requests-oauthlib>=0.7.0->google-auth-oauthlib>=0.4.1->gspread) (3.10)\n",
            "Requirement already satisfied: urllib3<3,>=1.21.1 in /usr/local/lib/python3.12/dist-packages (from requests>=2.0.0->requests-oauthlib>=0.7.0->google-auth-oauthlib>=0.4.1->gspread) (2.5.0)\n",
            "Requirement already satisfied: certifi>=2017.4.17 in /usr/local/lib/python3.12/dist-packages (from requests>=2.0.0->requests-oauthlib>=0.7.0->google-auth-oauthlib>=0.4.1->gspread) (2025.8.3)\n"
          ]
        }
      ],
      "source": [
        "!pip install psycopg2-binary gspread gspread-dataframe pandas oauth2client"
      ]
    },
    {
      "cell_type": "code",
      "source": [
        "# Celda de Imports (debería ser tu primera o segunda celda de código)\n",
        "import psycopg2\n",
        "import pandas as pd\n",
        "import gspread\n",
        "from gspread_dataframe import set_with_dataframe\n",
        "import json\n",
        "import os\n",
        "from google.colab import auth\n",
        "from google.auth import default"
      ],
      "metadata": {
        "id": "CrTHbGHNUEvC"
      },
      "execution_count": 15,
      "outputs": []
    },
    {
      "cell_type": "code",
      "source": [
        "import gspread\n",
        "import json\n",
        "import os\n",
        "\n",
        "# Autenticación inteligente: usa la cuenta del robot en GitHub o tu cuenta en Colab\n",
        "if 'GCP_SA_KEY' in os.environ:\n",
        "    print(\"Autenticando con Cuenta de Servicio desde GitHub Secrets...\")\n",
        "    keyfile_dict = json.loads(os.environ['GCP_SA_KEY'])\n",
        "    gc = gspread.service_account_from_dict(keyfile_dict)\n",
        "else:\n",
        "    print(\"Autenticando con usuario de Colab...\")\n",
        "    from google.colab import auth\n",
        "    auth.authenticate_user()\n",
        "    from google.auth import default\n",
        "    creds, _ = default()\n",
        "    gc = gspread.authorize(creds)"
      ],
      "metadata": {
        "id": "KLkb7jEPl36Q",
        "colab": {
          "base_uri": "https://localhost:8080/"
        },
        "outputId": "22843577-4b8b-42bc-85e8-78ea1aa8ddce"
      },
      "execution_count": 16,
      "outputs": [
        {
          "output_type": "stream",
          "name": "stdout",
          "text": [
            "Autenticando con usuario de Colab...\n"
          ]
        }
      ]
    },
    {
      "cell_type": "code",
      "source": [
        "import os\n",
        "\n",
        "# Esta sección busca la contraseña.\n",
        "# Si está en GitHub, la lee de los \"secrets\".\n",
        "# Si está en Colab, la lee del gestor de secretos de Colab.\n",
        "# Si no, la pones a mano (menos seguro).\n",
        "\n",
        "if 'DB_PASSWORD' in os.environ:\n",
        "    db_password = os.environ['DB_PASSWORD']\n",
        "    print(\"Contraseña leída desde GitHub Secrets.\")\n",
        "else:\n",
        "    try:\n",
        "        from google.colab import userdata\n",
        "        db_password = userdata.get('DB_PASSWORD')\n",
        "        print(\"Contraseña leída desde Colab Secrets.\")\n",
        "    except:\n",
        "        db_password = \"TU_CONTRASEÑA_AQUÍ\" # <-- Mantén esto para pruebas locales\n",
        "        print(\"Usando contraseña local.\")"
      ],
      "metadata": {
        "colab": {
          "base_uri": "https://localhost:8080/"
        },
        "id": "F56uRC0YmXq4",
        "outputId": "36093438-9757-4c66-9e0a-ff946d997a9a"
      },
      "execution_count": 17,
      "outputs": [
        {
          "output_type": "stream",
          "name": "stdout",
          "text": [
            "Contraseña leída desde Colab Secrets.\n"
          ]
        }
      ]
    },
    {
      "cell_type": "code",
      "source": [
        "# --------------- CONFIGURACIÓN (ajusta estas 4 líneas) ---------------\n",
        "db_host = 'ec2-52-206-224-222.compute-1.amazonaws.com'\n",
        "db_name = 'd77mgnf951v3g0'\n",
        "db_user = 'reports'\n",
        "sheet_name = 'Prueba automatización COLAB' # <-- El nombre exacto de tu Google Sheet\n",
        "sql_query = \"\"\"\n",
        "    SELECT id, name, origin, phone\n",
        "    FROM stores\n",
        "    LIMIT 10\n",
        "\"\"\"\n",
        "# ---------------------------------------------------------------------\n",
        "\n",
        "print(\"Iniciando proceso...\")\n",
        "\n",
        "try:\n",
        "    # 1. Conectar a PostgreSQL\n",
        "    print(\"Conectando a la base de datos...\")\n",
        "    conn = psycopg2.connect(\n",
        "        host=db_host,\n",
        "        dbname=db_name,\n",
        "        user=db_user,\n",
        "        password=db_password,\n",
        "        port=5432\n",
        "    )\n",
        "\n",
        "    # 2. Ejecutar la query y cargarla en un DataFrame de Pandas\n",
        "    print(\"Ejecutando consulta...\")\n",
        "    df = pd.read_sql_query(sql_query, conn)\n",
        "    print(f\"Se encontraron {len(df)} filas.\")\n",
        "\n",
        "    # 3. Conectar a Google Sheets y escribir los datos\n",
        "    print(f\"Abriendo Google Sheet: '{sheet_name}'...\")\n",
        "    spreadsheet = gc.open(sheet_name)\n",
        "    worksheet = spreadsheet.get_worksheet(0) # Obtiene la primera hoja (pestaña)\n",
        "\n",
        "    print(\"Limpiando la hoja y escribiendo los nuevos datos...\")\n",
        "    worksheet.clear()\n",
        "    set_with_dataframe(worksheet, df)\n",
        "\n",
        "    print(\"\\n¡Proceso completado con éxito! Tu Google Sheet ha sido actualizado.\")\n",
        "\n",
        "except Exception as e:\n",
        "    print(f\"\\nERROR: Ha ocurrido un problema.\")\n",
        "    print(e)\n",
        "\n",
        "finally:\n",
        "    # 4. Asegurarse de que la conexión siempre se cierre\n",
        "    if 'conn' in locals() and conn is not None:\n",
        "        conn.close()\n",
        "        print(\"Conexión a la base de datos cerrada.\")"
      ],
      "metadata": {
        "colab": {
          "base_uri": "https://localhost:8080/"
        },
        "id": "8UP3w1Qgmfmn",
        "outputId": "d52c88cd-04e7-4a94-9848-43f5bf131146"
      },
      "execution_count": 18,
      "outputs": [
        {
          "output_type": "stream",
          "name": "stdout",
          "text": [
            "Iniciando proceso...\n",
            "Conectando a la base de datos...\n",
            "Ejecutando consulta...\n",
            "Se encontraron 10 filas.\n",
            "Abriendo Google Sheet: 'Prueba automatización COLAB'...\n"
          ]
        },
        {
          "output_type": "stream",
          "name": "stderr",
          "text": [
            "/tmp/ipython-input-1130364318.py:28: UserWarning: pandas only supports SQLAlchemy connectable (engine/connection) or database string URI or sqlite3 DBAPI2 connection. Other DBAPI2 objects are not tested. Please consider using SQLAlchemy.\n",
            "  df = pd.read_sql_query(sql_query, conn)\n"
          ]
        },
        {
          "output_type": "stream",
          "name": "stdout",
          "text": [
            "Limpiando la hoja y escribiendo los nuevos datos...\n",
            "\n",
            "¡Proceso completado con éxito! Tu Google Sheet ha sido actualizado.\n",
            "Conexión a la base de datos cerrada.\n"
          ]
        }
      ]
    }
  ]
}