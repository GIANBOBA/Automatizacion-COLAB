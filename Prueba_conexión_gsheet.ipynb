{
  "nbformat": 4,
  "nbformat_minor": 0,
  "metadata": {
    "colab": {
      "provenance": []
    },
    "kernelspec": {
      "name": "python3",
      "display_name": "Python 3"
    },
    "language_info": {
      "name": "python"
    }
  },
  "cells": [
    {
      "cell_type": "code",
      "execution_count": 58,
      "metadata": {
        "colab": {
          "base_uri": "https://localhost:8080/"
        },
        "id": "sup31Vz3lGe6",
        "outputId": "e928ef32-e2c3-404f-abe7-34c3e2232ca8"
      },
      "outputs": [
        {
          "output_type": "stream",
          "name": "stdout",
          "text": [
            "Requirement already satisfied: psycopg2-binary in /usr/local/lib/python3.12/dist-packages (2.9.10)\n",
            "Requirement already satisfied: gspread in /usr/local/lib/python3.12/dist-packages (6.2.1)\n",
            "Requirement already satisfied: gspread-dataframe in /usr/local/lib/python3.12/dist-packages (4.0.0)\n",
            "Requirement already satisfied: pandas in /usr/local/lib/python3.12/dist-packages (2.2.2)\n",
            "Requirement already satisfied: oauth2client in /usr/local/lib/python3.12/dist-packages (4.1.3)\n",
            "Requirement already satisfied: ipykernel in /usr/local/lib/python3.12/dist-packages (6.17.1)\n",
            "Requirement already satisfied: google-auth>=1.12.0 in /usr/local/lib/python3.12/dist-packages (from gspread) (2.38.0)\n",
            "Requirement already satisfied: google-auth-oauthlib>=0.4.1 in /usr/local/lib/python3.12/dist-packages (from gspread) (1.2.2)\n",
            "Requirement already satisfied: six>=1.12.0 in /usr/local/lib/python3.12/dist-packages (from gspread-dataframe) (1.17.0)\n",
            "Requirement already satisfied: numpy>=1.26.0 in /usr/local/lib/python3.12/dist-packages (from pandas) (2.0.2)\n",
            "Requirement already satisfied: python-dateutil>=2.8.2 in /usr/local/lib/python3.12/dist-packages (from pandas) (2.9.0.post0)\n",
            "Requirement already satisfied: pytz>=2020.1 in /usr/local/lib/python3.12/dist-packages (from pandas) (2025.2)\n",
            "Requirement already satisfied: tzdata>=2022.7 in /usr/local/lib/python3.12/dist-packages (from pandas) (2025.2)\n",
            "Requirement already satisfied: httplib2>=0.9.1 in /usr/local/lib/python3.12/dist-packages (from oauth2client) (0.30.0)\n",
            "Requirement already satisfied: pyasn1>=0.1.7 in /usr/local/lib/python3.12/dist-packages (from oauth2client) (0.6.1)\n",
            "Requirement already satisfied: pyasn1-modules>=0.0.5 in /usr/local/lib/python3.12/dist-packages (from oauth2client) (0.4.2)\n",
            "Requirement already satisfied: rsa>=3.1.4 in /usr/local/lib/python3.12/dist-packages (from oauth2client) (4.9.1)\n",
            "Requirement already satisfied: debugpy>=1.0 in /usr/local/lib/python3.12/dist-packages (from ipykernel) (1.8.15)\n",
            "Requirement already satisfied: ipython>=7.23.1 in /usr/local/lib/python3.12/dist-packages (from ipykernel) (7.34.0)\n",
            "Requirement already satisfied: jupyter-client>=6.1.12 in /usr/local/lib/python3.12/dist-packages (from ipykernel) (7.4.9)\n",
            "Requirement already satisfied: matplotlib-inline>=0.1 in /usr/local/lib/python3.12/dist-packages (from ipykernel) (0.1.7)\n",
            "Requirement already satisfied: nest-asyncio in /usr/local/lib/python3.12/dist-packages (from ipykernel) (1.6.0)\n",
            "Requirement already satisfied: packaging in /usr/local/lib/python3.12/dist-packages (from ipykernel) (25.0)\n",
            "Requirement already satisfied: psutil in /usr/local/lib/python3.12/dist-packages (from ipykernel) (5.9.5)\n",
            "Requirement already satisfied: pyzmq>=17 in /usr/local/lib/python3.12/dist-packages (from ipykernel) (26.2.1)\n",
            "Requirement already satisfied: tornado>=6.1 in /usr/local/lib/python3.12/dist-packages (from ipykernel) (6.4.2)\n",
            "Requirement already satisfied: traitlets>=5.1.0 in /usr/local/lib/python3.12/dist-packages (from ipykernel) (5.7.1)\n",
            "Requirement already satisfied: cachetools<6.0,>=2.0.0 in /usr/local/lib/python3.12/dist-packages (from google-auth>=1.12.0->gspread) (5.5.2)\n",
            "Requirement already satisfied: requests-oauthlib>=0.7.0 in /usr/local/lib/python3.12/dist-packages (from google-auth-oauthlib>=0.4.1->gspread) (2.0.0)\n",
            "Requirement already satisfied: pyparsing<4,>=3.0.4 in /usr/local/lib/python3.12/dist-packages (from httplib2>=0.9.1->oauth2client) (3.2.3)\n",
            "Requirement already satisfied: setuptools>=18.5 in /usr/local/lib/python3.12/dist-packages (from ipython>=7.23.1->ipykernel) (75.2.0)\n",
            "Requirement already satisfied: jedi>=0.16 in /usr/local/lib/python3.12/dist-packages (from ipython>=7.23.1->ipykernel) (0.19.2)\n",
            "Requirement already satisfied: decorator in /usr/local/lib/python3.12/dist-packages (from ipython>=7.23.1->ipykernel) (4.4.2)\n",
            "Requirement already satisfied: pickleshare in /usr/local/lib/python3.12/dist-packages (from ipython>=7.23.1->ipykernel) (0.7.5)\n",
            "Requirement already satisfied: prompt-toolkit!=3.0.0,!=3.0.1,<3.1.0,>=2.0.0 in /usr/local/lib/python3.12/dist-packages (from ipython>=7.23.1->ipykernel) (3.0.52)\n",
            "Requirement already satisfied: pygments in /usr/local/lib/python3.12/dist-packages (from ipython>=7.23.1->ipykernel) (2.19.2)\n",
            "Requirement already satisfied: backcall in /usr/local/lib/python3.12/dist-packages (from ipython>=7.23.1->ipykernel) (0.2.0)\n",
            "Requirement already satisfied: pexpect>4.3 in /usr/local/lib/python3.12/dist-packages (from ipython>=7.23.1->ipykernel) (4.9.0)\n",
            "Requirement already satisfied: entrypoints in /usr/local/lib/python3.12/dist-packages (from jupyter-client>=6.1.12->ipykernel) (0.4)\n",
            "Requirement already satisfied: jupyter-core>=4.9.2 in /usr/local/lib/python3.12/dist-packages (from jupyter-client>=6.1.12->ipykernel) (5.8.1)\n",
            "Requirement already satisfied: parso<0.9.0,>=0.8.4 in /usr/local/lib/python3.12/dist-packages (from jedi>=0.16->ipython>=7.23.1->ipykernel) (0.8.5)\n",
            "Requirement already satisfied: platformdirs>=2.5 in /usr/local/lib/python3.12/dist-packages (from jupyter-core>=4.9.2->jupyter-client>=6.1.12->ipykernel) (4.4.0)\n",
            "Requirement already satisfied: ptyprocess>=0.5 in /usr/local/lib/python3.12/dist-packages (from pexpect>4.3->ipython>=7.23.1->ipykernel) (0.7.0)\n",
            "Requirement already satisfied: wcwidth in /usr/local/lib/python3.12/dist-packages (from prompt-toolkit!=3.0.0,!=3.0.1,<3.1.0,>=2.0.0->ipython>=7.23.1->ipykernel) (0.2.13)\n",
            "Requirement already satisfied: oauthlib>=3.0.0 in /usr/local/lib/python3.12/dist-packages (from requests-oauthlib>=0.7.0->google-auth-oauthlib>=0.4.1->gspread) (3.3.1)\n",
            "Requirement already satisfied: requests>=2.0.0 in /usr/local/lib/python3.12/dist-packages (from requests-oauthlib>=0.7.0->google-auth-oauthlib>=0.4.1->gspread) (2.32.4)\n",
            "Requirement already satisfied: charset_normalizer<4,>=2 in /usr/local/lib/python3.12/dist-packages (from requests>=2.0.0->requests-oauthlib>=0.7.0->google-auth-oauthlib>=0.4.1->gspread) (3.4.3)\n",
            "Requirement already satisfied: idna<4,>=2.5 in /usr/local/lib/python3.12/dist-packages (from requests>=2.0.0->requests-oauthlib>=0.7.0->google-auth-oauthlib>=0.4.1->gspread) (3.10)\n",
            "Requirement already satisfied: urllib3<3,>=1.21.1 in /usr/local/lib/python3.12/dist-packages (from requests>=2.0.0->requests-oauthlib>=0.7.0->google-auth-oauthlib>=0.4.1->gspread) (2.5.0)\n",
            "Requirement already satisfied: certifi>=2017.4.17 in /usr/local/lib/python3.12/dist-packages (from requests>=2.0.0->requests-oauthlib>=0.7.0->google-auth-oauthlib>=0.4.1->gspread) (2025.8.3)\n"
          ]
        }
      ],
      "source": [
        "!pip install psycopg2-binary gspread gspread-dataframe pandas oauth2client ipykernel"
      ]
    },
    {
      "cell_type": "code",
      "source": [
        "import psycopg2\n",
        "import pandas as pd\n",
        "import gspread\n",
        "from gspread_dataframe import set_with_dataframe\n",
        "import json\n",
        "import os"
      ],
      "metadata": {
        "id": "CrTHbGHNUEvC"
      },
      "execution_count": 59,
      "outputs": []
    },
    {
      "cell_type": "code",
      "source": [
        "# --- Celda de Autenticación y Secretos ---\n",
        "\n",
        "# 1. Autenticación con Google\n",
        "if 'GCP_SA_KEY' in os.environ:\n",
        "    print(\"Autenticando con Cuenta de Servicio desde GitHub Secrets...\")\n",
        "    keyfile_dict = json.loads(os.environ['GCP_SA_KEY'])\n",
        "    gc = gspread.service_account_from_dict(keyfile_dict)\n",
        "else:\n",
        "    print(\"Autenticando con usuario de Colab...\")\n",
        "    from google.colab import auth\n",
        "    from google.auth import default\n",
        "    auth.authenticate_user()\n",
        "    creds, _ = default()\n",
        "    gc = gspread.authorize(creds)\n",
        "\n",
        "# 2. Obtención de la Contraseña de la Base de Datos\n",
        "if 'DB_PASSWORD' in os.environ:\n",
        "    db_password = os.environ['DB_PASSWORD']\n",
        "    print(\"Contraseña de BBDD leída desde GitHub Secrets.\")\n",
        "else:\n",
        "    try:\n",
        "        from google.colab import userdata\n",
        "        db_password = userdata.get('DB_PASSWORD')\n",
        "        print(\"Contraseña de BBDD leída desde Colab Secrets.\")\n",
        "    except ImportError:\n",
        "        db_password = \"TU_CONTRASEÑA_AQUÍ\" # <-- Solo para pruebas locales si Colab Secrets falla\n",
        "        print(\"ADVERTENCIA: Usando contraseña local del código.\")"
      ],
      "metadata": {
        "id": "KLkb7jEPl36Q",
        "colab": {
          "base_uri": "https://localhost:8080/"
        },
        "outputId": "ea2a1be7-0657-4cdd-c720-01124ec67359"
      },
      "execution_count": 60,
      "outputs": [
        {
          "output_type": "stream",
          "name": "stdout",
          "text": [
            "Autenticando con usuario de Colab...\n",
            "Contraseña de BBDD leída desde Colab Secrets.\n"
          ]
        }
      ]
    },
    {
      "cell_type": "code",
      "source": [
        "# --------------- CONFIGURACIÓN FINAL ---------------\n",
        "db_host = 'ec2-52-206-224-222.compute-1.amazonaws.com'\n",
        "db_name = 'd77mgnf951v3g0'\n",
        "db_user = 'reports'\n",
        "sheet_name = 'Prueba automatización COLAB' # <-- O el nombre final que le des a tu hoja\n",
        "sql_query = \"\"\"\n",
        "    SELECT\n",
        "      s.terms_accepted_at::date AS fecha_firma,\n",
        "      COUNT(DISTINCT s.id) AS cantidad_de_firmas\n",
        "    FROM\n",
        "      stores s\n",
        "    WHERE\n",
        "      s.terms_accepted_at >= CURRENT_DATE - INTERVAL '365 days'\n",
        "    GROUP BY\n",
        "      fecha_firma\n",
        "    ORDER BY\n",
        "      fecha_firma DESC\n",
        "\"\"\"\n",
        "# ----------------------------------------------------\n",
        "\n",
        "print(\"--- INICIANDO PROCESO ---\")\n",
        "conn = None\n",
        "\n",
        "try:\n",
        "    # 1. Conexión a la Base de Datos\n",
        "    print(\"Checkpoint 1: Conectando a PostgreSQL...\")\n",
        "    conn = psycopg2.connect(\n",
        "        host=db_host,\n",
        "        dbname=db_name,\n",
        "        user=db_user,\n",
        "        password=db_password,\n",
        "        port=5432\n",
        "    )\n",
        "    print(\"Checkpoint 2: Conexión a BBDD exitosa.\")\n",
        "\n",
        "    # 2. Ejecución de la Query\n",
        "    print(\"Checkpoint 3: Ejecutando query...\")\n",
        "    df = pd.read_sql_query(sql_query, conn)\n",
        "    print(f\"Checkpoint 4: Query ejecutada. Se encontraron {len(df)} filas.\")\n",
        "\n",
        "    if len(df) == 0:\n",
        "        print(\"ADVERTENCIA: La consulta no devolvió filas. La hoja de cálculo quedará en blanco.\")\n",
        "\n",
        "    # 3. Conexión con Google Sheets\n",
        "    print(f\"Checkpoint 5: Abriendo Google Sheet: '{sheet_name}'...\")\n",
        "    spreadsheet = gc.open(sheet_name)\n",
        "    print(\"Checkpoint 6: Hoja de cálculo abierta.\")\n",
        "\n",
        "    worksheet = spreadsheet.get_worksheet(0)\n",
        "    print(f\"Checkpoint 7: Pestaña '{worksheet.title}' seleccionada.\")\n",
        "\n",
        "    print(\"Checkpoint 8: Limpiando la hoja y escribiendo datos...\")\n",
        "    worksheet.clear()\n",
        "\n",
        "    # Solo escribe si el dataframe no está vacío\n",
        "    if not df.empty:\n",
        "      set_with_dataframe(worksheet, df)\n",
        "\n",
        "    print(\"Checkpoint 9: Escritura de datos finalizada.\")\n",
        "\n",
        "    print(\"\\n--- ¡PROCESO COMPLETADO CON ÉXITO! ---\")\n",
        "\n",
        "except Exception as e:\n",
        "    print(f\"\\n--- ERROR CRÍTICO DETECTADO ---\")\n",
        "    print(f\"Detalle del error: {e}\")\n",
        "    raise e\n",
        "\n",
        "finally:\n",
        "    if conn is not None:\n",
        "        conn.close()\n",
        "        print(\"Conexión a la base de datos cerrada.\")"
      ],
      "metadata": {
        "colab": {
          "base_uri": "https://localhost:8080/"
        },
        "id": "8UP3w1Qgmfmn",
        "outputId": "5bce0986-4649-4775-f2ca-0d393d5427bb"
      },
      "execution_count": 61,
      "outputs": [
        {
          "output_type": "stream",
          "name": "stdout",
          "text": [
            "--- INICIANDO PROCESO ---\n",
            "Checkpoint 1: Conectando a PostgreSQL...\n",
            "Checkpoint 2: Conexión a BBDD exitosa.\n",
            "Checkpoint 3: Ejecutando query...\n"
          ]
        },
        {
          "output_type": "stream",
          "name": "stderr",
          "text": [
            "/tmp/ipython-input-1076343499.py:38: UserWarning: pandas only supports SQLAlchemy connectable (engine/connection) or database string URI or sqlite3 DBAPI2 connection. Other DBAPI2 objects are not tested. Please consider using SQLAlchemy.\n",
            "  df = pd.read_sql_query(sql_query, conn)\n"
          ]
        },
        {
          "output_type": "stream",
          "name": "stdout",
          "text": [
            "Checkpoint 4: Query ejecutada. Se encontraron 322 filas.\n",
            "Checkpoint 5: Abriendo Google Sheet: 'Prueba automatización COLAB'...\n",
            "Checkpoint 6: Hoja de cálculo abierta.\n",
            "Checkpoint 7: Pestaña 'Hoja 1' seleccionada.\n",
            "Checkpoint 8: Limpiando la hoja y escribiendo datos...\n",
            "Checkpoint 9: Escritura de datos finalizada.\n",
            "\n",
            "--- ¡PROCESO COMPLETADO CON ÉXITO! ---\n",
            "Conexión a la base de datos cerrada.\n"
          ]
        }
      ]
    }
  ]
}